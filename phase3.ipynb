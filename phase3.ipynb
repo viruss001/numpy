{
 "cells": [
  {
   "cell_type": "code",
   "execution_count": null,
   "metadata": {},
   "outputs": [],
   "source": [
    "import numpy as np\n",
    "import matplotlib.pyplot as plt\n"
   ]
  },
  {
   "cell_type": "code",
   "execution_count": 12,
   "metadata": {},
   "outputs": [
    {
     "name": "stdout",
     "output_type": "stream",
     "text": [
      "=====Zomato sales analysis========\n",
      "(5, 5)\n",
      "1st 3row\n",
      " [[     1 150000 180000 220000 250000]\n",
      " [     2 120000 140000 160000 190000]\n",
      " [     3 200000 230000 260000 300000]]\n"
     ]
    }
   ],
   "source": [
    " # Data Structure \n",
    "sales_data = np.array([\n",
    "    [1,150000,180000,220000,250000],\n",
    "    [2,120000,140000,160000,190000],\n",
    "    [3,200000,230000,260000,300000],\n",
    "    [4,180000,210000,240000,270000],\n",
    "    [5,160000,185000,205000,230000]\n",
    "])\n",
    "\n",
    "print(\"=====Zomato sales analysis========\")\n",
    "print(sales_data.shape)\n",
    "print(\"1st 3row\\n\",sales_data[:3])\n",
    "#slicing like a [row,col] we are further slice row and col\n",
    "#as we want 1st 3 row then [0:3,]"
   ]
  },
  {
   "cell_type": "code",
   "execution_count": 18,
   "metadata": {},
   "outputs": [
    {
     "name": "stdout",
     "output_type": "stream",
     "text": [
      "[[150000 180000 220000 250000]\n",
      " [120000 140000 160000 190000]\n",
      " [200000 230000 260000 300000]\n",
      " [180000 210000 240000 270000]\n",
      " [160000 185000 205000 230000]]\n",
      "[ 810000  945000 1085000 1240000]\n",
      "[800000 610000 990000 900000 780000]\n"
     ]
    }
   ],
   "source": [
    "# total sales per year\n",
    "print(sales_data[:,1:])\n",
    "yeartotal = np.sum(sales_data[:,1:],axis=0)\n",
    "particularTotal = np.sum(sales_data[:,1:],axis=1)\n",
    "print(yeartotal)\n",
    "print(particularTotal)\n"
   ]
  },
  {
   "cell_type": "code",
   "execution_count": 21,
   "metadata": {},
   "outputs": [
    {
     "name": "stdout",
     "output_type": "stream",
     "text": [
      "[150000 120000 200000 180000 160000]\n"
     ]
    }
   ],
   "source": [
    "# minimum sales per restro \n",
    "mini = np.min(sales_data[:,1:],axis=1)\n",
    "print(mini)"
   ]
  },
  {
   "cell_type": "code",
   "execution_count": 24,
   "metadata": {},
   "outputs": [
    {
     "name": "stdout",
     "output_type": "stream",
     "text": [
      "[200000 230000 260000 300000]\n"
     ]
    }
   ],
   "source": [
    "#maximum sales per year\n",
    "maxi = np.max(sales_data[:,1:],axis=0)\n",
    "print(maxi)"
   ]
  },
  {
   "cell_type": "code",
   "execution_count": 26,
   "metadata": {},
   "outputs": [
    {
     "name": "stdout",
     "output_type": "stream",
     "text": [
      "[200000. 152500. 247500. 225000. 195000.]\n"
     ]
    }
   ],
   "source": [
    "#average sales per restro\n",
    "avg = np.average(sales_data[:,1:],axis=1)\n",
    "print(avg)"
   ]
  },
  {
   "cell_type": "code",
   "execution_count": 28,
   "metadata": {},
   "outputs": [
    {
     "name": "stdout",
     "output_type": "stream",
     "text": [
      "[2 4 6 8]\n",
      "[ 1  4  9 16]\n"
     ]
    }
   ],
   "source": [
    "vector1=np.array([1,2,3,4])\n",
    "vector2=np.array([1,2,3,4])\n",
    "print(vector1+vector2)\n",
    "print(vector1*vector2)"
   ]
  },
  {
   "cell_type": "code",
   "execution_count": 29,
   "metadata": {},
   "outputs": [
    {
     "name": "stdout",
     "output_type": "stream",
     "text": [
      "['SURAJ' 'SATAYM']\n"
     ]
    }
   ],
   "source": [
    "restro = np.array([\"suraj\",\"sataym\"])\n",
    "vectorized_upper = np.vectorize(str.upper)\n",
    "print(vectorized_upper(restro))"
   ]
  },
  {
   "cell_type": "code",
   "execution_count": 30,
   "metadata": {},
   "outputs": [
    {
     "name": "stdout",
     "output_type": "stream",
     "text": [
      "[[12500.         15000.         18333.33333333 20833.33333333]\n",
      " [10000.         11666.66666667 13333.33333333 15833.33333333]\n",
      " [16666.66666667 19166.66666667 21666.66666667 25000.        ]\n",
      " [15000.         17500.         20000.         22500.        ]\n",
      " [13333.33333333 15416.66666667 17083.33333333 19166.66666667]]\n"
     ]
    }
   ],
   "source": [
    "#brodcasting\n",
    "monthly_sales = sales_data[:,1:]/12\n",
    "print(monthly_sales)"
   ]
  },
  {
   "cell_type": "code",
   "execution_count": null,
   "metadata": {},
   "outputs": [],
   "source": []
  }
 ],
 "metadata": {
  "kernelspec": {
   "display_name": "Python 3",
   "language": "python",
   "name": "python3"
  },
  "language_info": {
   "codemirror_mode": {
    "name": "ipython",
    "version": 3
   },
   "file_extension": ".py",
   "mimetype": "text/x-python",
   "name": "python",
   "nbconvert_exporter": "python",
   "pygments_lexer": "ipython3",
   "version": "3.12.9"
  }
 },
 "nbformat": 4,
 "nbformat_minor": 2
}
