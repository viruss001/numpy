{
 "cells": [
  {
   "cell_type": "markdown",
   "metadata": {},
   "source": [
    "### Numpy Array Operations \n"
   ]
  },
  {
   "cell_type": "code",
   "execution_count": 39,
   "metadata": {},
   "outputs": [],
   "source": [
    "import numpy as np"
   ]
  },
  {
   "cell_type": "code",
   "execution_count": 40,
   "metadata": {},
   "outputs": [
    {
     "name": "stdout",
     "output_type": "stream",
     "text": [
      "basic slicing  [3 4 5]\n",
      "with step slicing  [3 5]\n",
      "Negative indexing slicing [9 8 7 6]\n"
     ]
    }
   ],
   "source": [
    "arr = np.array([1,2,3,4,5,6,7,8,9])\n",
    "print(\"basic slicing \",arr[2:5])\n",
    "print(\"with step slicing \",arr[2:5:2])\n",
    "print(\"Negative indexing slicing\",arr[-1:-5:-1])\n"
   ]
  },
  {
   "cell_type": "code",
   "execution_count": 41,
   "metadata": {},
   "outputs": [
    {
     "name": "stdout",
     "output_type": "stream",
     "text": [
      "Accessing elements 6\n",
      "Accessing  Entire rows [4 5 6]\n",
      "Accessing Entire cols [2 5 8]\n",
      "Accessing not Entire elements [6 9]\n"
     ]
    }
   ],
   "source": [
    "arr_2d = np.array([[1,2,3],\n",
    "                   [4,5,6],\n",
    "                   [7,8,9]])\n",
    "print(\"Accessing elements\",arr_2d[1,2])\n",
    "print(\"Accessing  Entire rows\",arr_2d[1])\n",
    "print(\"Accessing Entire cols\",arr_2d[:,1])# it mean all rown and second coloumn\n",
    "print(\"Accessing not Entire elements\",arr_2d[1:,2]) #third cols  from 2 and 3  rows\n"
   ]
  },
  {
   "cell_type": "markdown",
   "metadata": {},
   "source": [
    "### Sorting"
   ]
  },
  {
   "cell_type": "code",
   "execution_count": 42,
   "metadata": {},
   "outputs": [
    {
     "name": "stdout",
     "output_type": "stream",
     "text": [
      "Sorted array [1 2 3 4 5 6 7 9]\n"
     ]
    }
   ],
   "source": [
    "unsorted = np.array([3,7,2,4,6,5,9,1])\n",
    "print(\"Sorted array\",np.sort(unsorted))"
   ]
  },
  {
   "cell_type": "code",
   "execution_count": 43,
   "metadata": {},
   "outputs": [
    {
     "name": "stdout",
     "output_type": "stream",
     "text": [
      "Unsorted 2d array\n",
      " [[3 7]\n",
      " [2 4]\n",
      " [6 5]\n",
      " [9 1]]\n",
      "sorted 2d array by col\n",
      " [[2 1]\n",
      " [3 4]\n",
      " [6 5]\n",
      " [9 7]]\n",
      "sorted 2d array by rows\n",
      " [[3 7]\n",
      " [2 4]\n",
      " [5 6]\n",
      " [1 9]]\n"
     ]
    }
   ],
   "source": [
    "unsorted_2d = unsorted.reshape(4,2)\n",
    "print(\"Unsorted 2d array\\n\",unsorted_2d)\n",
    "print(\"sorted 2d array by col\\n\",np.sort(unsorted_2d,axis=0))\n",
    "print(\"sorted 2d array by rows\\n\",np.sort(unsorted_2d,axis=1))\n"
   ]
  },
  {
   "cell_type": "markdown",
   "metadata": {},
   "source": [
    "### Filter"
   ]
  },
  {
   "cell_type": "code",
   "execution_count": 49,
   "metadata": {},
   "outputs": [
    {
     "name": "stdout",
     "output_type": "stream",
     "text": [
      "[ 2  4  6  8 10]\n",
      "[1 3 5 7 9]\n"
     ]
    }
   ],
   "source": [
    "number = np.array([1,2,3,4,5,6,7,8,9,10])\n",
    "evenNumber = number[number%2==0]\n",
    "oddNumber = number[number%2==1]\n",
    "print(evenNumber)\n",
    "print(oddNumber)"
   ]
  },
  {
   "cell_type": "markdown",
   "metadata": {},
   "source": [
    "### Filter with Mask"
   ]
  },
  {
   "cell_type": "code",
   "execution_count": null,
   "metadata": {},
   "outputs": [
    {
     "name": "stdout",
     "output_type": "stream",
     "text": [
      "[False False False False False  True  True  True  True  True]\n",
      "number greater than 5 is : [ 6  7  8  9 10]\n"
     ]
    }
   ],
   "source": [
    "mask = number>5\n",
    "print(mask)\n",
    "print(\"number greater than 5 is :\",number[mask])\n",
    "'''\n",
    "mask is basically expersion that store true false like it print all the value which are greater than 5 in number array\n",
    "'''"
   ]
  },
  {
   "cell_type": "markdown",
   "metadata": {},
   "source": [
    "### Fancy index and np.where()"
   ]
  },
  {
   "cell_type": "code",
   "execution_count": null,
   "metadata": {},
   "outputs": [
    {
     "name": "stdout",
     "output_type": "stream",
     "text": [
      "[2 6 5]\n",
      "(array([1, 3, 5, 7, 9]),)\n",
      "NP Where : [ 2  4  6  8 10]\n"
     ]
    }
   ],
   "source": [
    "'''\n",
    "we can create a array of indexes rather than pass only one index we can pass array as  index\n",
    "'''\n",
    "index = [1,5,4]\n",
    "print(number[index])\n",
    "\n",
    "''' where is just like a masking it store the index if condition is true but masking store true false value for all elements'''\n",
    "result = np.where(number%2==0)\n",
    "print(result)\n",
    "print(\"NP Where :\",number[result])"
   ]
  },
  {
   "cell_type": "code",
   "execution_count": null,
   "metadata": {},
   "outputs": [],
   "source": []
  }
 ],
 "metadata": {
  "kernelspec": {
   "display_name": "Python 3",
   "language": "python",
   "name": "python3"
  },
  "language_info": {
   "codemirror_mode": {
    "name": "ipython",
    "version": 3
   },
   "file_extension": ".py",
   "mimetype": "text/x-python",
   "name": "python",
   "nbconvert_exporter": "python",
   "pygments_lexer": "ipython3",
   "version": "3.12.9"
  }
 },
 "nbformat": 4,
 "nbformat_minor": 2
}
